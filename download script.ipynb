{
 "cells": [
  {
   "cell_type": "code",
   "execution_count": 20,
   "id": "00f5b7c6",
   "metadata": {},
   "outputs": [],
   "source": [
    "import pandas as pd\n",
    "from pytube import YouTube\n",
    "import os\n",
    "os.environ[\"IMAGEIO_FFMPEG_EXE\"] = \"/Users/xiteng/Downloads/ffmpeg\"\n",
    "from moviepy.editor import *"
   ]
  },
  {
   "cell_type": "code",
   "execution_count": 56,
   "id": "b2f6f1c2",
   "metadata": {},
   "outputs": [
    {
     "name": "stdout",
     "output_type": "stream",
     "text": [
      "Current working directory is: /Users/xiteng/Desktop/video sentiment analysis materials/Models/Video-Sentiment-Analysis-master/video data\n"
     ]
    }
   ],
   "source": [
    "# this directory saves downloaded videos\n",
    "os.chdir('/Users/xiteng/Desktop/video sentiment analysis materials/Models/Video-Sentiment-Analysis-master/video data')"
   ]
  },
  {
   "cell_type": "code",
   "execution_count": 37,
   "id": "478fc448",
   "metadata": {},
   "outputs": [],
   "source": [
    "# load excel sp500 data\n",
    "from openpyxl import load_workbook\n",
    "wb = load_workbook('sp500(with time intervals).xlsx')\n",
    "ws = wb.active"
   ]
  },
  {
   "cell_type": "code",
   "execution_count": 43,
   "id": "b8215c6d",
   "metadata": {
    "scrolled": true
   },
   "outputs": [
    {
     "name": "stdout",
     "output_type": "stream",
     "text": [
      "MMM\n",
      "ABT\n",
      "['MMM.MP4', 'ABT.MP4']\n",
      "https://youtu.be/7XCgDVTZhbc\n",
      "https://youtu.be/dkYlV69Vw08\n"
     ]
    }
   ],
   "source": [
    "# loop through the column M in excel \"sp500(with time intervals).xlsx\"\n",
    "# download the videos and store them in current directory\n",
    "# set min_row = 3, max_row = 466 to download the full list of videos\n",
    "lst = []\n",
    "for row in ws.iter_cols(min_row=3, max_row=4, min_col= 1, max_col=1):\n",
    "    for cell in row:\n",
    "        if cell.value == None:\n",
    "            continue\n",
    "#         print(cell.value)\n",
    "        lst.append(cell.value+'.MP4')\n",
    "print(lst)\n",
    "\n",
    "for row in ws.iter_cols(min_row=3, max_row=4, min_col= 13, max_col=13):\n",
    "    for cell, name, in zip(row, lst):\n",
    "        if cell.value == None:\n",
    "            continue\n",
    "        print(cell.value)\n",
    "        yt = YouTube(cell.value)\n",
    "        video = yt.streams.get_highest_resolution().download(filename = name)"
   ]
  },
  {
   "cell_type": "code",
   "execution_count": null,
   "id": "e057456c",
   "metadata": {},
   "outputs": [],
   "source": [
    "# codes of following blocks used to extract video clips with pre-set time intervals"
   ]
  },
  {
   "cell_type": "code",
   "execution_count": 57,
   "id": "ede3cf07",
   "metadata": {},
   "outputs": [
    {
     "name": "stdout",
     "output_type": "stream",
     "text": [
      "  time_start time_end\n",
      "0       0:00     0:30\n",
      "1       0:25     0:45\n",
      "['0:00', '0:25']\n",
      "['0:30', '0:45']\n",
      "{'MMM.MP4': ['0:00', '0:30'], 'ABT.MP4': ['0:25', '0:45']}\n"
     ]
    }
   ],
   "source": [
    "# cretae a dataframe of time intervals\n",
    "df_time_intervals = pd.read_excel('sp500(with time intervals).xlsx', \n",
    "                   usecols='O:P', skiprows = 1, nrows = 2, names = ['time_start', 'time_end'])\n",
    "print(df_time_intervals)\n",
    "\n",
    "#create lists of start time and end time\n",
    "time_starts = []\n",
    "time_ends = []\n",
    "for i in df_time_intervals.index:\n",
    "    time_starts.append(df_time_intervals['time_start'][i])\n",
    "    time_ends.append(df_time_intervals['time_end'][i])\n",
    "print(time_starts)\n",
    "print(time_ends)\n",
    "\n",
    "#create a dictionary with keys=stock ticks, values=start time, end time\n",
    "#this dictionary is used as a map to loop through each video and extract segments of videos\n",
    "video_dict = {}\n",
    "for tick, start, end in zip(lst, time_starts, time_ends):\n",
    "    video_dict[tick] = [start, end]\n",
    "print(video_dict)"
   ]
  },
  {
   "cell_type": "code",
   "execution_count": 53,
   "id": "ec3a2873",
   "metadata": {
    "scrolled": true
   },
   "outputs": [
    {
     "name": "stdout",
     "output_type": "stream",
     "text": [
      "Moviepy - Building video MMM.MP4.\n",
      "MoviePy - Writing audio in MMMTEMP_MPY_wvf_snd.mp3\n"
     ]
    },
    {
     "name": "stderr",
     "output_type": "stream",
     "text": [
      "                                                                                \r"
     ]
    },
    {
     "name": "stdout",
     "output_type": "stream",
     "text": [
      "MoviePy - Done.\n",
      "Moviepy - Writing video MMM.MP4\n",
      "\n"
     ]
    },
    {
     "name": "stderr",
     "output_type": "stream",
     "text": [
      "                                                                                \r"
     ]
    },
    {
     "name": "stdout",
     "output_type": "stream",
     "text": [
      "Moviepy - Done !\n",
      "Moviepy - video ready MMM.MP4\n",
      "Moviepy - Building video ABT.MP4.\n",
      "MoviePy - Writing audio in ABTTEMP_MPY_wvf_snd.mp3\n"
     ]
    },
    {
     "name": "stderr",
     "output_type": "stream",
     "text": [
      "                                                                                \r"
     ]
    },
    {
     "name": "stdout",
     "output_type": "stream",
     "text": [
      "MoviePy - Done.\n",
      "Moviepy - Writing video ABT.MP4\n",
      "\n"
     ]
    },
    {
     "name": "stderr",
     "output_type": "stream",
     "text": [
      "                                                                                \r"
     ]
    },
    {
     "name": "stdout",
     "output_type": "stream",
     "text": [
      "Moviepy - Done !\n",
      "Moviepy - video ready ABT.MP4\n"
     ]
    }
   ],
   "source": [
    "#transform downloaded vidoes into clips \n",
    "#get videos from 'video_path'\n",
    "#write transferred clips into 'clips_path'\n",
    "clips_path = '/Users/xiteng/Desktop/video sentiment analysis materials/Models/Video-Sentiment-Analysis-master/clips'\n",
    "video_path = '/Users/xiteng/Desktop/video sentiment analysis materials/Models/Video-Sentiment-Analysis-master/video data'\n",
    "for tick in video_dict:\n",
    "    os.chdir(video_path)\n",
    "    clips = VideoFileClip(tick).subclip(video_dict[tick][0],video_dict[tick][1])\n",
    "    os.chdir(clips_path)\n",
    "    clips.write_videofile(tick)"
   ]
  },
  {
   "cell_type": "code",
   "execution_count": 17,
   "id": "9fe4dfbb",
   "metadata": {},
   "outputs": [],
   "source": [
    "# codes of following blocks used to convert mp4 files into mp3 files"
   ]
  },
  {
   "cell_type": "code",
   "execution_count": 61,
   "id": "1319ad87",
   "metadata": {},
   "outputs": [
    {
     "name": "stdout",
     "output_type": "stream",
     "text": [
      "/Users/xiteng/Desktop/speech-emotion-webapp-master/large audios/MMM.mp3\n",
      "/Users/xiteng/Desktop/speech-emotion-webapp-master/large audios/ABT.mp3\n",
      "/Users/xiteng/Desktop/video sentiment analysis materials/Models/Video-Sentiment-Analysis-master/video data/MMM.MP4\n",
      "/Users/xiteng/Desktop/video sentiment analysis materials/Models/Video-Sentiment-Analysis-master/video data/ABT.MP4\n"
     ]
    }
   ],
   "source": [
    "# create a list of mp3 file paths, used to store the converted mp3 files\n",
    "mp3_filelist = []\n",
    "audio_root = '/Users/xiteng/Desktop/speech-emotion-webapp-master/large audios'\n",
    "for root, dirs, files in os.walk(video_path):  # 对文件夹进行遍历\n",
    "    for name in files:\n",
    "        if \".xls\" not in name:\n",
    "            if \".DS_Store\" not in name:\n",
    "                name = name.replace('.MP4', '.mp3')\n",
    "                audio_path = audio_root+'/'+name\n",
    "                mp3_filelist.append(audio_path)\n",
    "for f in mp3_filelist:\n",
    "    print(f)\n",
    "\n",
    "#create a list of mp4 file paths, where the MP4 files are stored\n",
    "mp4_filelist = []\n",
    "for root, dirs, files in os.walk(video_path):  # 对文件夹进行遍历\n",
    "    for name in files:\n",
    "        if \".xls\" not in name:\n",
    "            if \".DS_Store\" not in name:\n",
    "                mp4_filelist.append(os.path.join(root, name))\n",
    "for g in mp4_filelist:\n",
    "    print(g)"
   ]
  },
  {
   "cell_type": "code",
   "execution_count": 62,
   "id": "e09d12c6",
   "metadata": {},
   "outputs": [
    {
     "name": "stdout",
     "output_type": "stream",
     "text": [
      "MoviePy - Writing audio in /Users/xiteng/Desktop/speech-emotion-webapp-master/large audios/MMM.mp3\n"
     ]
    },
    {
     "name": "stderr",
     "output_type": "stream",
     "text": [
      "                                                                                \r"
     ]
    },
    {
     "name": "stdout",
     "output_type": "stream",
     "text": [
      "MoviePy - Done.\n",
      "MoviePy - Writing audio in /Users/xiteng/Desktop/speech-emotion-webapp-master/large audios/ABT.mp3\n"
     ]
    },
    {
     "name": "stderr",
     "output_type": "stream",
     "text": [
      "                                                                                "
     ]
    },
    {
     "name": "stdout",
     "output_type": "stream",
     "text": [
      "MoviePy - Done.\n"
     ]
    },
    {
     "name": "stderr",
     "output_type": "stream",
     "text": [
      "\r"
     ]
    }
   ],
   "source": [
    "# converted mp4 to mp3, using path lists created above as inputs\n",
    "for mp4_file, mp3_file in zip(mp4_filelist, mp3_filelist):\n",
    "    videoclip = VideoFileClip(mp4_file)\n",
    "\n",
    "    audioclip = videoclip.audio\n",
    "    audioclip.write_audiofile(mp3_file)\n",
    "\n",
    "    audioclip.close()\n",
    "    videoclip.close()"
   ]
  },
  {
   "cell_type": "code",
   "execution_count": null,
   "id": "957a7494",
   "metadata": {},
   "outputs": [],
   "source": [
    "#codes of following blocks used to get clips from audio files"
   ]
  },
  {
   "cell_type": "code",
   "execution_count": 63,
   "id": "40221584",
   "metadata": {
    "scrolled": true
   },
   "outputs": [
    {
     "name": "stdout",
     "output_type": "stream",
     "text": [
      "['MMM.mp3', 'ABT.mp3']\n",
      "{'MMM.mp3': ['0:00', '0:30'], 'ABT.mp3': ['0:25', '0:45']}\n"
     ]
    }
   ],
   "source": [
    "# create audio file list\n",
    "audio_lst = []\n",
    "for i in lst:\n",
    "    audio_lst.append(i.replace('MP4', 'mp3'))\n",
    "print(audio_lst)\n",
    "\n",
    "#create a dictionary with keys=names, values=start time, end time\n",
    "#audio version\n",
    "audio_dict = {}\n",
    "for tick, start, end in zip(audio_lst, time_starts, time_ends):\n",
    "    audio_dict[tick] = [start, end]\n",
    "print(audio_dict)"
   ]
  },
  {
   "cell_type": "code",
   "execution_count": 65,
   "id": "1f0685d2",
   "metadata": {},
   "outputs": [
    {
     "name": "stdout",
     "output_type": "stream",
     "text": [
      "MoviePy - Writing audio in MMM.mp3\n"
     ]
    },
    {
     "name": "stderr",
     "output_type": "stream",
     "text": [
      "                                                                                \r"
     ]
    },
    {
     "name": "stdout",
     "output_type": "stream",
     "text": [
      "MoviePy - Done.\n",
      "MoviePy - Writing audio in ABT.mp3\n"
     ]
    },
    {
     "name": "stderr",
     "output_type": "stream",
     "text": [
      "                                                                                \r"
     ]
    },
    {
     "name": "stdout",
     "output_type": "stream",
     "text": [
      "MoviePy - Done.\n"
     ]
    }
   ],
   "source": [
    "#transform downloaded audios into audio clips \n",
    "audio_path = '/Users/xiteng/Desktop/speech-emotion-webapp-master/large audios'\n",
    "audio_clips_path = '/Users/xiteng/Desktop/speech-emotion-webapp-master/clips'\n",
    "for tick in audio_dict:\n",
    "    os.chdir(audio_path)\n",
    "    clips = AudioFileClip(tick).subclip(audio_dict[tick][0],audio_dict[tick][1])\n",
    "    os.chdir(audio_clips_path)\n",
    "    clips.write_audiofile(tick)"
   ]
  }
 ],
 "metadata": {
  "kernelspec": {
   "display_name": "Python 3 (ipykernel)",
   "language": "python",
   "name": "python3"
  },
  "language_info": {
   "codemirror_mode": {
    "name": "ipython",
    "version": 3
   },
   "file_extension": ".py",
   "mimetype": "text/x-python",
   "name": "python",
   "nbconvert_exporter": "python",
   "pygments_lexer": "ipython3",
   "version": "3.10.6"
  }
 },
 "nbformat": 4,
 "nbformat_minor": 5
}
