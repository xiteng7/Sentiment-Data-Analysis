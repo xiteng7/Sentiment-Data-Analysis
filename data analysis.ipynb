{
 "cells": [
  {
   "cell_type": "code",
   "execution_count": 3,
   "id": "c1584910",
   "metadata": {},
   "outputs": [],
   "source": [
    "import pandas as pd\n",
    "import os"
   ]
  },
  {
   "cell_type": "code",
   "execution_count": 4,
   "id": "351be507",
   "metadata": {},
   "outputs": [],
   "source": [
    "os.chdir(\"/Users/xiteng/Desktop/Tony's Research\")"
   ]
  },
  {
   "cell_type": "code",
   "execution_count": 134,
   "id": "f58e71c9",
   "metadata": {},
   "outputs": [],
   "source": [
    "df = pd.read_excel(io='data analysis sheet.xlsx', sheet_name='full video')"
   ]
  },
  {
   "cell_type": "code",
   "execution_count": 135,
   "id": "a3d1ee3a",
   "metadata": {},
   "outputs": [
    {
     "name": "stdout",
     "output_type": "stream",
     "text": [
      "     name              sector       media source emotion  one day return  \\\n",
      "0       A          Healthcare               CNBC    fear        0.031346   \n",
      "1     AAL         Industrials  American Airlines   happy        0.016732   \n",
      "2     AAP   Consumer Cyclical               CNBC     sad       -0.043288   \n",
      "3    AAPL          Technology                CNN   angry        0.011208   \n",
      "4     ABC          Healthcare       FiercePharma     sad       -0.001358   \n",
      "..    ...                 ...                ...     ...             ...   \n",
      "448   YUM   Consumer Cyclical      Yahoo Finance   angry        0.005164   \n",
      "449   ZBH          Healthcare      Zimmer Biomet    fear       -0.008142   \n",
      "450  ZBRA          Technology               CNBC   angry       -0.008209   \n",
      "451  ZION  Financial Services      Utah Business     sad        0.020535   \n",
      "452   ZTS          Healthcare               CNBC     sad        0.000138   \n",
      "\n",
      "     one week return  one month return  three months return  \n",
      "0           0.064839          0.051037            -0.009079  \n",
      "1          -0.056888          0.035694            -0.283882  \n",
      "2          -0.069029         -0.062718            -0.192195  \n",
      "3           0.002346         -0.033519             0.190429  \n",
      "4          -0.017768         -0.035310             0.022861  \n",
      "..               ...               ...                  ...  \n",
      "448         0.006355         -0.005005            -0.048141  \n",
      "449         0.020607         -0.025578             0.066864  \n",
      "450        -0.023533         -0.034098            -0.320430  \n",
      "451         0.074777         -0.075940             0.117784  \n",
      "452        -0.004225          0.023878            -0.077375  \n",
      "\n",
      "[453 rows x 8 columns]\n"
     ]
    }
   ],
   "source": [
    "print(df)"
   ]
  },
  {
   "cell_type": "code",
   "execution_count": 136,
   "id": "fe2b775b",
   "metadata": {},
   "outputs": [],
   "source": [
    "df_fear = df.loc[df['emotion'] == 'fear']\n",
    "df_angry = df.loc[df['emotion'] == 'angry']\n",
    "df_happy = df.loc[df['emotion'] == 'happy']\n",
    "df_sad = df.loc[df['emotion'] == 'sad']"
   ]
  },
  {
   "cell_type": "code",
   "execution_count": 137,
   "id": "bb0ca856",
   "metadata": {
    "scrolled": true
   },
   "outputs": [
    {
     "name": "stdout",
     "output_type": "stream",
     "text": [
      "     name              sector     media source emotion  one day return  \\\n",
      "0       A          Healthcare             CNBC    fear        0.031346   \n",
      "5    ABMD          Healthcare          Abiomed    fear        0.001636   \n",
      "7    ADBE          Technology             CNBC    fear       -0.128441   \n",
      "10    AEE           Utilities  TopTenEducation    fear       -0.006989   \n",
      "11    AEP           Utilities             CNBC    fear       -0.001140   \n",
      "..    ...                 ...              ...     ...             ...   \n",
      "441   WTW  Financial Services              WTW    fear       -0.003570   \n",
      "442    WY         Real Estate             CNBC    fear       -0.015654   \n",
      "446  XRAY          Healthcare  Dentsply Sirona    fear       -0.041217   \n",
      "447   XYL         Industrials             CNBC    fear       -0.017243   \n",
      "449   ZBH          Healthcare    Zimmer Biomet    fear       -0.008142   \n",
      "\n",
      "     one week return  one month return  three months return  \n",
      "0           0.064839          0.051037            -0.009079  \n",
      "5           0.049519          0.104427             0.386525  \n",
      "7          -0.153909         -0.099104            -0.100347  \n",
      "10          0.004193         -0.042214            -0.006150  \n",
      "11          0.011174         -0.012885            -0.019612  \n",
      "..               ...               ...                  ...  \n",
      "441        -0.009887         -0.038451            -0.000824  \n",
      "442        -0.024002          0.003392             0.056353  \n",
      "446        -0.020854         -0.074828             0.046369  \n",
      "447        -0.026733         -0.135695            -0.128161  \n",
      "449         0.020607         -0.025578             0.066864  \n",
      "\n",
      "[118 rows x 8 columns]\n",
      "     name              sector                   media source emotion  \\\n",
      "3    AAPL          Technology                            CNN   angry   \n",
      "8     ADI          Technology                           CNBC   angry   \n",
      "16   AKAM          Technology                           CNBC   angry   \n",
      "20   ALLE         Industrials  Bloomberg Markets and Finance   angry   \n",
      "22   AMCR   Consumer Cyclical     Ellen MacArthur Foundation   angry   \n",
      "..    ...                 ...                            ...     ...   \n",
      "438   WMT  Consumer Defensive                        Walmart   angry   \n",
      "439   WRK   Consumer Cyclical               WestRock Company   angry   \n",
      "443  WYNN   Consumer Cyclical            Business Roundtable   angry   \n",
      "448   YUM   Consumer Cyclical                  Yahoo Finance   angry   \n",
      "450  ZBRA          Technology                           CNBC   angry   \n",
      "\n",
      "     one day return  one week return  one month return  three months return  \n",
      "3          0.011208         0.002346         -0.033519             0.190429  \n",
      "8          0.003261        -0.000272         -0.011141             0.115761  \n",
      "16         0.022781         0.041252         -0.145921            -0.021344  \n",
      "20         0.009175         0.009175          0.067789             0.203800  \n",
      "22        -0.018605         0.000000         -0.051163            -0.034419  \n",
      "..              ...              ...               ...                  ...  \n",
      "438        0.006217         0.009698         -0.025364            -0.088027  \n",
      "439       -0.027009         0.054359          0.203077             0.496752  \n",
      "443        0.014832         0.006532          0.055793             0.067777  \n",
      "448        0.005164         0.006355         -0.005005            -0.048141  \n",
      "450       -0.008209        -0.023533         -0.034098            -0.320430  \n",
      "\n",
      "[154 rows x 8 columns]\n",
      "     name              sector                          media source emotion  \\\n",
      "1     AAL         Industrials                     American Airlines   happy   \n",
      "6     ABT          Healthcare                         Yahoo Finance   happy   \n",
      "9    ADSK          Technology                                  CNBC   happy   \n",
      "27   AMZN   Consumer Cyclical                       Startup Stories   happy   \n",
      "47    BBY   Consumer Cyclical               Harvard Business Review   happy   \n",
      "51   BIIB          Healthcare                                  CNBC   happy   \n",
      "55    BKR              Energy                                  CNBC   happy   \n",
      "62      C  Financial Services                                  Citi   happy   \n",
      "63    CAG  Consumer Defensive                                  CNBC   happy   \n",
      "85    CMG   Consumer Cyclical                          CNN Business   happy   \n",
      "93    CPB  Consumer Defensive                               Nareit1   happy   \n",
      "125   DUK           Utilities                                  CNBC   happy   \n",
      "127   DVN              Energy         Bloomberg Markets and Finance   happy   \n",
      "129  DXCM          Healthcare                                  CNBC   happy   \n",
      "131  EBAY   Consumer Cyclical                                  CNBC   happy   \n",
      "136    EL  Consumer Defensive                                  CNBC   happy   \n",
      "147   ETN         Industrials                                  CNBC   happy   \n",
      "155   EXR         Real Estate                   Extra Space Storage   happy   \n",
      "177  GILD          Healthcare                       Gilead Sciences   happy   \n",
      "180   GLW          Technology                  Corning Incorporated   happy   \n",
      "181    GM   Consumer Cyclical                  Good Morning America   happy   \n",
      "197   HLT   Consumer Cyclical                                  CNBC   happy   \n",
      "198   HON         Industrials         Bloomberg Markets and Finance   happy   \n",
      "209  IDXX          Healthcare              IDEXX Laboratories, Inc.   happy   \n",
      "260   MAS         Industrials                     Masco Corporation   happy   \n",
      "261   MCD   Consumer Cyclical                                  CNBC   happy   \n",
      "265  MDLZ  Consumer Defensive                                  CNBC   happy   \n",
      "279   MOS     Basic Materials                                Mosaic   happy   \n",
      "281   MRK          Healthcare  Stanford Graduate School of Business   happy   \n",
      "286  MSFT          Technology                   Wall Street Journal   happy   \n",
      "290    MU          Technology                                  CNBC   happy   \n",
      "307   NVR   Consumer Cyclical                          Trevor Smith   happy   \n",
      "330   PGR  Financial Services                        WKYC Channel 3   happy   \n",
      "369  SEDG          Technology                           SolarEdgePV   happy   \n",
      "371   SHW     Basic Materials                            Dan Hanson   happy   \n",
      "377    SO           Utilities                      Southern Company   happy   \n",
      "379  SPGI  Financial Services                                  CNBC   happy   \n",
      "388   TAP  Consumer Defensive                         Yahoo Finance   happy   \n",
      "394   TGT  Consumer Defensive                         Yahoo Finance   happy   \n",
      "412  ULTA   Consumer Cyclical                         Goldman Sachs   happy   \n",
      "413   UNH          Healthcare                                  CNBC   happy   \n",
      "426  VTRS          Healthcare                               Viatris   happy   \n",
      "435   WHR   Consumer Cyclical                 Whirlpool Corporation   happy   \n",
      "444   XEL           Utilities          Carlson School of Management   happy   \n",
      "\n",
      "     one day return  one week return  one month return  three months return  \n",
      "1          0.016732        -0.056888          0.035694            -0.283882  \n",
      "6          0.017518         0.009665          0.073265             0.171643  \n",
      "9         -0.065592        -0.097479         -0.164252            -0.088531  \n",
      "27        -0.003719        -0.005432          0.049964             0.058824  \n",
      "47         0.007121        -0.000962         -0.017321             0.059854  \n",
      "51        -0.021974        -0.071123         -0.024696             0.016772  \n",
      "55        -0.000402        -0.042203          0.049839             0.398714  \n",
      "62        -0.014452        -0.069440         -0.098872            -0.156503  \n",
      "63        -0.003880         0.001386         -0.016075             0.021896  \n",
      "85        -0.006199        -0.006464          0.064688             0.139071  \n",
      "93         0.021542         0.024036          0.063492             0.097506  \n",
      "125        0.001603         0.000200          0.065237             0.090791  \n",
      "127       -0.015113        -0.001175         -0.007053             0.257767  \n",
      "129        0.060648        -0.070230         -0.043410             0.065212  \n",
      "131        0.053722         0.043640         -0.025687            -0.216959  \n",
      "136        0.028335         0.084051          0.026612             0.111946  \n",
      "147        0.031108         0.071050          0.064214             0.115677  \n",
      "155        0.006604         0.006891          0.066096             0.133398  \n",
      "177       -0.028306        -0.004493          0.058110             0.008537  \n",
      "180       -0.014515         0.008647          0.123842            -0.075664  \n",
      "181        0.012460        -0.007227         -0.075505            -0.212808  \n",
      "197        0.004834         0.060495          0.101069             0.059177  \n",
      "198        0.000392         0.010236         -0.029008            -0.029574  \n",
      "209       -0.108604        -0.154044         -0.095038            -0.010795  \n",
      "260        0.001306        -0.047806         -0.042581             0.028474  \n",
      "261        0.029259         0.024488          0.029418             0.140570  \n",
      "265        0.011897         0.022327         -0.017927             0.086701  \n",
      "279        0.010101         0.144444          0.169697             0.220202  \n",
      "281       -0.009638        -0.012513          0.031282             0.167738  \n",
      "286        0.029598         0.072074          0.202892             0.272255  \n",
      "290        0.059742         0.104023         -0.122786            -0.131492  \n",
      "307       -0.012039         0.006345          0.033594             0.272113  \n",
      "330       -0.002897         0.005795          0.003311             0.109961  \n",
      "369        0.011619        -0.041533          0.091471            -0.009147  \n",
      "371        0.001304         0.015981          0.016008             0.108950  \n",
      "377       -0.000261        -0.006797         -0.029800            -0.065874  \n",
      "379        0.002347         0.031352         -0.034416            -0.209359  \n",
      "388       -0.014405         0.047880         -0.001217             0.072023  \n",
      "394       -0.005140         0.015263         -0.023329            -0.177303  \n",
      "412       -0.016467        -0.036943          0.026736             0.038485  \n",
      "413       -0.005950         0.048375          0.081922             0.135789  \n",
      "426       -0.035303        -0.059798         -0.061239             0.103746  \n",
      "435        0.053496         0.099405          0.052077            -0.014739  \n",
      "444        0.000723        -0.008136          0.013560             0.100163  \n",
      "     name              sector                 media source emotion  \\\n",
      "2     AAP   Consumer Cyclical                         CNBC     sad   \n",
      "4     ABC          Healthcare                 FiercePharma     sad   \n",
      "12    AES           Utilities        Business Panama Group     sad   \n",
      "15    AIZ  Financial Services         Quest Means Business     sad   \n",
      "19    ALL  Financial Services             Fortune Magazine     sad   \n",
      "..    ...                 ...                          ...     ...   \n",
      "431   WDC          Technology  Western Digital Corporation     sad   \n",
      "434   WFC  Financial Services                         CNBC     sad   \n",
      "445   XOM              Energy                         CNBC     sad   \n",
      "451  ZION  Financial Services                Utah Business     sad   \n",
      "452   ZTS          Healthcare                         CNBC     sad   \n",
      "\n",
      "     one day return  one week return  one month return  three months return  \n",
      "2         -0.043288        -0.069029         -0.062718            -0.192195  \n",
      "4         -0.001358        -0.017768         -0.035310             0.022861  \n",
      "12        -0.050816        -0.012587          0.038695             0.070396  \n",
      "15        -0.001620         0.012959          0.010182            -0.145213  \n",
      "19        -0.001648         0.011643          0.032074             0.146090  \n",
      "..              ...              ...               ...                  ...  \n",
      "431       -0.025060        -0.040643         -0.235663            -0.269237  \n",
      "434       -0.003912        -0.019996         -0.023473             0.200174  \n",
      "445        0.024511        -0.024051          0.031415            -0.033602  \n",
      "451        0.020535         0.074777         -0.075940             0.117784  \n",
      "452        0.000138        -0.004225          0.023878            -0.077375  \n",
      "\n",
      "[136 rows x 8 columns]\n"
     ]
    }
   ],
   "source": [
    "print(df_fear)\n",
    "print(df_angry)\n",
    "print(df_happy)\n",
    "print(df_sad)"
   ]
  },
  {
   "cell_type": "code",
   "execution_count": 151,
   "id": "54e3c055",
   "metadata": {},
   "outputs": [],
   "source": [
    "a = df_sad.groupby('sector')['one day return'].mean()\n",
    "b = df_sad.groupby('sector')['one week return'].mean()\n",
    "c = df_sad.groupby('sector')['one month return'].mean()\n",
    "d = df_sad.groupby('sector')['three months return'].mean()"
   ]
  },
  {
   "cell_type": "code",
   "execution_count": 152,
   "id": "d01aeb94",
   "metadata": {
    "scrolled": true
   },
   "outputs": [
    {
     "name": "stdout",
     "output_type": "stream",
     "text": [
      "                        one day return  one week return  one month return  \\\n",
      "sector                                                                      \n",
      "Basic Materials               0.017974         0.039873          0.035289   \n",
      "Communication Services        0.004221        -0.019220         -0.050390   \n",
      "Consumer Cyclical            -0.005034         0.003538         -0.013592   \n",
      "Consumer Defensive           -0.013970        -0.003866         -0.012882   \n",
      "Energy                        0.048847         0.051567          0.093907   \n",
      "Financial Services            0.008682         0.018168          0.030520   \n",
      "Healthcare                   -0.009104        -0.004653          0.014126   \n",
      "Industrials                   0.006130         0.010934          0.021004   \n",
      "Real Estate                  -0.006574        -0.000047          0.001696   \n",
      "Technology                   -0.004209        -0.005472         -0.016475   \n",
      "Utilities                    -0.003827        -0.005205          0.000122   \n",
      "\n",
      "                        three months return  \n",
      "sector                                       \n",
      "Basic Materials                   -0.023694  \n",
      "Communication Services            -0.141032  \n",
      "Consumer Cyclical                  0.041605  \n",
      "Consumer Defensive                -0.010035  \n",
      "Energy                             0.102429  \n",
      "Financial Services                 0.018012  \n",
      "Healthcare                         0.046036  \n",
      "Industrials                       -0.003556  \n",
      "Real Estate                        0.024591  \n",
      "Technology                        -0.005844  \n",
      "Utilities                          0.009931  \n"
     ]
    }
   ],
   "source": [
    "df2 = pd.DataFrame({'one day return':a,'one week return':b,'one month return':c,'three months return':d})\n",
    "print(df2)\n",
    "df2.to_excel('sector_mean_return_sad.xlsx', index = True)"
   ]
  },
  {
   "cell_type": "code",
   "execution_count": 59,
   "id": "434187db",
   "metadata": {
    "collapsed": true
   },
   "outputs": [
    {
     "name": "stdout",
     "output_type": "stream",
     "text": [
      "Collecting yahooquery\n",
      "  Downloading yahooquery-2.3.1-py2.py3-none-any.whl (49 kB)\n",
      "\u001b[2K     \u001b[90m━━━━━━━━━━━━━━━━━━━━━━━━━━━━━━━━━━━━━━━\u001b[0m \u001b[32m49.8/49.8 kB\u001b[0m \u001b[31m353.2 kB/s\u001b[0m eta \u001b[36m0:00:00\u001b[0ma \u001b[36m0:00:01\u001b[0m\n",
      "\u001b[?25hCollecting requests-futures>=1.0.0\n",
      "  Downloading requests_futures-1.0.0-py2.py3-none-any.whl (7.4 kB)\n",
      "Requirement already satisfied: pandas>=0.24.0 in /Users/xiteng/miniforge3/envs/tf/lib/python3.10/site-packages (from yahooquery) (1.5.0)\n",
      "Requirement already satisfied: tqdm>=4.54.1 in /Users/xiteng/miniforge3/envs/tf/lib/python3.10/site-packages (from yahooquery) (4.64.1)\n",
      "Requirement already satisfied: lxml>=4.9.1 in /Users/xiteng/miniforge3/envs/tf/lib/python3.10/site-packages (from yahooquery) (4.9.2)\n",
      "Requirement already satisfied: python-dateutil>=2.8.1 in /Users/xiteng/miniforge3/envs/tf/lib/python3.10/site-packages (from pandas>=0.24.0->yahooquery) (2.8.2)\n",
      "Requirement already satisfied: numpy>=1.21.0 in /Users/xiteng/miniforge3/envs/tf/lib/python3.10/site-packages (from pandas>=0.24.0->yahooquery) (1.23.3)\n",
      "Requirement already satisfied: pytz>=2020.1 in /Users/xiteng/miniforge3/envs/tf/lib/python3.10/site-packages (from pandas>=0.24.0->yahooquery) (2022.7.1)\n",
      "Requirement already satisfied: requests>=1.2.0 in /Users/xiteng/miniforge3/envs/tf/lib/python3.10/site-packages (from requests-futures>=1.0.0->yahooquery) (2.28.1)\n",
      "Requirement already satisfied: six>=1.5 in /Users/xiteng/miniforge3/envs/tf/lib/python3.10/site-packages (from python-dateutil>=2.8.1->pandas>=0.24.0->yahooquery) (1.16.0)\n",
      "Requirement already satisfied: charset-normalizer<3,>=2 in /Users/xiteng/miniforge3/envs/tf/lib/python3.10/site-packages (from requests>=1.2.0->requests-futures>=1.0.0->yahooquery) (2.1.1)\n",
      "Requirement already satisfied: idna<4,>=2.5 in /Users/xiteng/miniforge3/envs/tf/lib/python3.10/site-packages (from requests>=1.2.0->requests-futures>=1.0.0->yahooquery) (3.4)\n",
      "Requirement already satisfied: urllib3<1.27,>=1.21.1 in /Users/xiteng/miniforge3/envs/tf/lib/python3.10/site-packages (from requests>=1.2.0->requests-futures>=1.0.0->yahooquery) (1.26.11)\n",
      "Requirement already satisfied: certifi>=2017.4.17 in /Users/xiteng/miniforge3/envs/tf/lib/python3.10/site-packages (from requests>=1.2.0->requests-futures>=1.0.0->yahooquery) (2022.9.24)\n",
      "Installing collected packages: requests-futures, yahooquery\n",
      "Successfully installed requests-futures-1.0.0 yahooquery-2.3.1\n",
      "\n",
      "\u001b[1m[\u001b[0m\u001b[34;49mnotice\u001b[0m\u001b[1;39;49m]\u001b[0m\u001b[39;49m A new release of pip available: \u001b[0m\u001b[31;49m22.3.1\u001b[0m\u001b[39;49m -> \u001b[0m\u001b[32;49m23.1\u001b[0m\n",
      "\u001b[1m[\u001b[0m\u001b[34;49mnotice\u001b[0m\u001b[1;39;49m]\u001b[0m\u001b[39;49m To update, run: \u001b[0m\u001b[32;49mpip install --upgrade pip\u001b[0m\n",
      "Note: you may need to restart the kernel to use updated packages.\n"
     ]
    }
   ],
   "source": [
    "pip install yahooquery"
   ]
  },
  {
   "cell_type": "code",
   "execution_count": 60,
   "id": "822eefc9",
   "metadata": {},
   "outputs": [],
   "source": [
    "from yahooquery import Ticker"
   ]
  },
  {
   "cell_type": "code",
   "execution_count": 128,
   "id": "4652463f",
   "metadata": {
    "scrolled": true
   },
   "outputs": [
    {
     "name": "stdout",
     "output_type": "stream",
     "text": [
      "['A' 'AAL' 'AAP' 'AAPL' 'ABC' 'ABMD' 'ABT' 'ADBE' 'ADI' 'ADSK' 'AEE' 'AEP'\n",
      " 'AES' 'AFL' 'AIG' 'AIZ' 'AKAM' 'ALGN' 'ALK' 'ALL' 'ALLE' 'AMAT' 'AMCR'\n",
      " 'AMD' 'AME' 'AMGN' 'AMT' 'AMZN' 'ANET' 'ANSS' 'AON' 'APA' 'APD' 'APH'\n",
      " 'APTV' 'ARE' 'ATO' 'ATVI' 'AVB' 'AWK' 'AXP' 'AZO' 'BA' 'BAC' 'BALL' 'BAX'\n",
      " 'BBWI' 'BBY' 'BDX' 'BEN' 'BF.B' 'BIIB' 'BIO' 'BK' 'BKNG' 'BKR' 'BLK'\n",
      " 'BMY' 'BR' 'BSX' 'BWA' 'BXP' 'C' 'CAG' 'CAH' 'CARR' 'CAT' 'CB' 'CBOE'\n",
      " 'CBRE' 'CCI' 'CCL' 'CDNS' 'CDW' 'CE' 'CEG' 'CF' 'CFG' 'CHD' 'CHRW' 'CHTR'\n",
      " 'CI' 'CLX' 'CMCSA' 'CME' 'CMG' 'CMI' 'CMS' 'CNC' 'CNP' 'COF' 'COP' 'COST'\n",
      " 'CPB' 'CPRT' 'CPT' 'CRL' 'CRM' 'CSCO' 'CSX' 'CTAS' 'CTLT' 'CTRA' 'CTSH'\n",
      " 'CTVA' 'CVS' 'CVX' 'CZR' 'D' 'DAL' 'DD' 'DE' 'DFS' 'DGX' 'DHI' 'DHR'\n",
      " 'DIS' 'DISH' 'DLR' 'DLTR' 'DOV' 'DOW' 'DPZ' 'DRI' 'DTE' 'DUK' 'DVA' 'DVN'\n",
      " 'DXC' 'DXCM' 'EA' 'EBAY' 'ECL' 'ED' 'EFX' 'EIX' 'EL' 'ELV' 'EMN' 'EMR'\n",
      " 'ENPH' 'EOG' 'EPAM' 'EQIX' 'EQR' 'ES' 'ESS' 'ETN' 'ETR' 'ETSY' 'EVRG'\n",
      " 'EW' 'EXC' 'EXPD' 'EXPE' 'EXR' 'F' 'FANG' 'FAST' 'FBHS' 'FCX' 'FDS' 'FDX'\n",
      " 'FE' 'FFIV' 'FIS' 'FISV' 'FITB' 'FLT' 'FMC' 'FOX' 'FRC' 'FRT' 'FTNT'\n",
      " 'FTV' 'GE' 'GEN' 'GILD' 'GIS' 'GL' 'GLW' 'GM' 'GNRC' 'GNRC' 'GOOG'\n",
      " 'GOOGL' 'GPN' 'GRMN' 'GS' 'HAL' 'HAS' 'HBAN' 'HCA' 'HD' 'HES' 'HIG' 'HII'\n",
      " 'HLT' 'HON' 'HPE' 'HPQ' 'HRL' 'HSIC' 'HST' 'HSY' 'HUM' 'HWM' 'IBM' 'ICE'\n",
      " 'IDXX' 'IEX' 'IFF' 'ILMN' 'INCY' 'INTC' 'INTU' 'IP' 'IPG' 'IR' 'IRM'\n",
      " 'ISRG' 'ITW' 'IVZ' 'J' 'JCI' 'JNJ' 'JNPR' 'JPM' 'K' 'KDP' 'KEY' 'KEYS'\n",
      " 'KHC' 'KIM' 'KLAC' 'KMB' 'KMI' 'KMX' 'KR' 'L' 'LDOS' 'LEN' 'LH' 'LHX'\n",
      " 'LIN' 'LKQ' 'LLY' 'LMT' 'LNC' 'LNT' 'LOW' 'LRCX' 'LUMN' 'LUV' 'LVS' 'LYB'\n",
      " 'LYV' 'MA' 'MAA' 'MAR' 'MAS' 'MCD' 'MCHP' 'MCK' 'MCO' 'MDLZ' 'MDT' 'MET'\n",
      " 'META' 'MGM' 'MHK' 'MKC' 'MKTX' 'MLM' 'MMC' 'MMM' 'MNST' 'MO' 'MOH' 'MOS'\n",
      " 'MPC' 'MRK' 'MRNA' 'MRO' 'MS' 'MSCI' 'MSFT' 'MSI' 'MTB' 'MTCH' 'MU'\n",
      " 'NCLH' 'NDAQ' 'NDSN' 'NEE' 'NEM' 'NFLX' 'NI' 'NKE' 'NOC' 'NOW' 'NRG'\n",
      " 'NSC' 'NTAP' 'NTRS' 'NUE' 'NVDA' 'NVR' 'NWL' 'NWS' 'NWSA' 'NXPI' 'ODFL'\n",
      " 'OGN' 'OMC' 'ON' 'ORCL' 'OTIS' 'OXY' 'PARA' 'PAYC' 'PAYX' 'PCAR' 'PEAK'\n",
      " 'PEG' 'PENN' 'PEP' 'PFE' 'PFG' 'PG' 'PGR' 'PH' 'PHM' 'PKG' 'PKI' 'PLD'\n",
      " 'PM' 'PNC' 'PNR' 'POOL' 'PPG' 'PPL' 'PRU' 'PSA' 'PSX' 'PTC' 'PVH' 'PWR'\n",
      " 'PXD' 'PYPL' 'QCOM' 'QRVO' 'RCL' 'RE' 'REG' 'REGN' 'RF' 'RJF' 'RL' 'RMD'\n",
      " 'ROK' 'ROL' 'ROP' 'ROST' 'RSG' 'RTX' 'SBAC' 'SBNY' 'SBUX' 'SEDG' 'SEE'\n",
      " 'SHW' 'SIVB' 'SJM' 'SLB' 'SNA' 'SNPS' 'SO' 'SPG' 'SPGI' 'SRE' 'STT' 'STX'\n",
      " 'SWK' 'SYF' 'SYK' 'SYY' 'T' 'TAP' 'TDG' 'TEL' 'TER' 'TFC' 'TFX' 'TGT'\n",
      " 'TMO' 'TMUS' 'TPR' 'TRMB' 'TROW' 'TSCO' 'TSLA' 'TSN' 'TT' 'TTWO' 'TWTR'\n",
      " 'TXN' 'TXT' 'TYL' 'UAL' 'UDR' 'UHS' 'ULTA' 'UNH' 'UNP' 'UPS' 'V' 'VFC'\n",
      " 'VICI' 'VLO' 'VMC' 'VNO' 'VRSK' 'VRSN' 'VRTX' 'VTR' 'VTRS' 'VZ' 'WAB'\n",
      " 'WAT' 'WBD' 'WDC' 'WEC' 'WELL' 'WFC' 'WHR' 'WM' 'WMB' 'WMT' 'WRK' 'WST'\n",
      " 'WTW' 'WY' 'WYNN' 'XEL' 'XOM' 'XRAY' 'XYL' 'YUM' 'ZBH' 'ZBRA' 'ZION'\n",
      " 'ZTS']\n",
      "453\n"
     ]
    }
   ],
   "source": [
    "tickers = df['name'].values\n",
    "print(tickers)\n",
    "print(len(tickers))"
   ]
  },
  {
   "cell_type": "code",
   "execution_count": 129,
   "id": "94785f1e",
   "metadata": {},
   "outputs": [],
   "source": [
    "l_ticks = []\n",
    "l_sectors = []"
   ]
  },
  {
   "cell_type": "code",
   "execution_count": 130,
   "id": "81fb1a02",
   "metadata": {
    "scrolled": true
   },
   "outputs": [
    {
     "name": "stdout",
     "output_type": "stream",
     "text": [
      "['A', 'AAL', 'AAP', 'AAPL', 'ABC', 'ABT', 'ADBE', 'ADI', 'ADSK', 'AEE', 'AEP', 'AES', 'AFL', 'AIG', 'AIZ', 'AKAM', 'ALGN', 'ALK', 'ALL', 'ALLE', 'AMAT', 'AMCR', 'AMD', 'AME', 'AMGN', 'AMT', 'AMZN', 'ANET', 'ANSS', 'AON', 'APA', 'APD', 'APH', 'APTV', 'ARE', 'ATO', 'ATVI', 'AVB', 'AWK', 'AXP', 'AZO', 'BA', 'BAC', 'BALL', 'BAX', 'BBWI', 'BBY', 'BDX', 'BEN', 'BIIB', 'BIO', 'BK', 'BKNG', 'BKR', 'BLK', 'BMY', 'BR', 'BSX', 'BWA', 'BXP', 'C', 'CAG', 'CAH', 'CARR', 'CAT', 'CB', 'CBOE', 'CBRE', 'CCI', 'CCL', 'CDNS', 'CDW', 'CE', 'CEG', 'CF', 'CFG', 'CHD', 'CHRW', 'CHTR', 'CI', 'CLX', 'CMCSA', 'CME', 'CMG', 'CMI', 'CMS', 'CNC', 'CNP', 'COF', 'COP', 'COST', 'CPB', 'CPRT', 'CPT', 'CRL', 'CRM', 'CSCO', 'CSX', 'CTAS', 'CTLT', 'CTRA', 'CTSH', 'CTVA', 'CVS', 'CVX', 'CZR', 'D', 'DAL', 'DD', 'DE', 'DFS', 'DGX', 'DHI', 'DHR', 'DIS', 'DISH', 'DLR', 'DLTR', 'DOV', 'DOW', 'DPZ', 'DRI', 'DTE', 'DUK', 'DVA', 'DVN', 'DXC', 'DXCM', 'EA', 'EBAY', 'ECL', 'ED', 'EFX', 'EIX', 'EL', 'ELV', 'EMN', 'EMR', 'ENPH', 'EOG', 'EPAM', 'EQIX', 'EQR', 'ES', 'ESS', 'ETN', 'ETR', 'ETSY', 'EVRG', 'EW', 'EXC', 'EXPD', 'EXPE', 'EXR', 'F', 'FANG', 'FAST', 'FCX', 'FDS', 'FDX', 'FE', 'FFIV', 'FIS', 'FISV', 'FITB', 'FLT', 'FMC', 'FOX', 'FRC', 'FRT', 'FTNT', 'FTV', 'GE', 'GEN', 'GILD', 'GIS', 'GL', 'GLW', 'GM', 'GNRC', 'GNRC', 'GOOG', 'GOOGL', 'GPN', 'GRMN', 'GS', 'HAL', 'HAS', 'HBAN', 'HCA', 'HD', 'HES', 'HIG', 'HII', 'HLT', 'HON', 'HPE', 'HPQ', 'HRL', 'HSIC', 'HST', 'HSY', 'HUM', 'HWM', 'IBM', 'ICE', 'IDXX', 'IEX', 'IFF', 'ILMN', 'INCY', 'INTC', 'INTU', 'IP', 'IPG', 'IR', 'IRM', 'ISRG', 'ITW', 'IVZ', 'J', 'JCI', 'JNJ', 'JNPR', 'JPM', 'K', 'KDP', 'KEY', 'KEYS', 'KHC', 'KIM', 'KLAC', 'KMB', 'KMI', 'KMX', 'KR', 'L', 'LDOS', 'LEN', 'LH', 'LHX', 'LIN', 'LKQ', 'LLY', 'LMT', 'LNC', 'LNT', 'LOW', 'LRCX', 'LUMN', 'LUV', 'LVS', 'LYB', 'LYV', 'MA', 'MAA', 'MAR', 'MAS', 'MCD', 'MCHP', 'MCK', 'MCO', 'MDLZ', 'MDT', 'MET', 'META', 'MGM', 'MHK', 'MKC', 'MKTX', 'MLM', 'MMC', 'MMM', 'MNST', 'MO', 'MOH', 'MOS', 'MPC', 'MRK', 'MRNA', 'MRO', 'MS', 'MSCI', 'MSFT', 'MSI', 'MTB', 'MTCH', 'MU', 'NCLH', 'NDAQ', 'NDSN', 'NEE', 'NEM', 'NFLX', 'NI', 'NKE', 'NOC', 'NOW', 'NRG', 'NSC', 'NTAP', 'NTRS', 'NUE', 'NVDA', 'NVR', 'NWL', 'NWS', 'NWSA', 'NXPI', 'ODFL', 'OGN', 'OMC', 'ON', 'ORCL', 'OTIS', 'OXY', 'PARA', 'PAYC', 'PAYX', 'PCAR', 'PEAK', 'PEG', 'PENN', 'PEP', 'PFE', 'PFG', 'PG', 'PGR', 'PH', 'PHM', 'PKG', 'PKI', 'PLD', 'PM', 'PNC', 'PNR', 'POOL', 'PPG', 'PPL', 'PRU', 'PSA', 'PSX', 'PTC', 'PVH', 'PWR', 'PXD', 'PYPL', 'QCOM', 'QRVO', 'RCL', 'RE', 'REG', 'REGN', 'RF', 'RJF', 'RL', 'RMD', 'ROK', 'ROL', 'ROP', 'ROST', 'RSG', 'RTX', 'SBAC', 'SBNY', 'SBUX', 'SEDG', 'SEE', 'SHW', 'SIVB', 'SJM', 'SLB', 'SNA', 'SNPS', 'SO', 'SPG', 'SPGI', 'SRE', 'STT', 'STX', 'SWK', 'SYF', 'SYK', 'SYY', 'T', 'TAP', 'TDG', 'TEL', 'TER', 'TFC', 'TFX', 'TGT', 'TMO', 'TMUS', 'TPR', 'TRMB', 'TROW', 'TSCO', 'TSLA', 'TSN', 'TT', 'TTWO', 'TXN', 'TXT', 'TYL', 'UAL', 'UDR', 'UHS', 'ULTA', 'UNH', 'UNP', 'UPS', 'V', 'VFC', 'VICI', 'VLO', 'VMC', 'VNO', 'VRSK', 'VRSN', 'VRTX', 'VTR', 'VTRS', 'VZ', 'WAB', 'WAT', 'WBD', 'WDC', 'WEC', 'WELL', 'WFC', 'WHR', 'WM', 'WMB', 'WMT', 'WRK', 'WST', 'WTW', 'WY', 'WYNN', 'XEL', 'XOM', 'XRAY', 'XYL', 'YUM', 'ZBH', 'ZBRA', 'ZION', 'ZTS']\n",
      "['Healthcare', 'Industrials', 'Consumer Cyclical', 'Technology', 'Healthcare', 'Healthcare', 'Technology', 'Technology', 'Technology', 'Utilities', 'Utilities', 'Utilities', 'Financial Services', 'Financial Services', 'Financial Services', 'Technology', 'Healthcare', 'Industrials', 'Financial Services', 'Industrials', 'Technology', 'Consumer Cyclical', 'Technology', 'Industrials', 'Healthcare', 'Real Estate', 'Consumer Cyclical', 'Technology', 'Technology', 'Financial Services', 'Energy', 'Basic Materials', 'Technology', 'Consumer Cyclical', 'Real Estate', 'Utilities', 'Communication Services', 'Real Estate', 'Utilities', 'Financial Services', 'Consumer Cyclical', 'Industrials', 'Financial Services', 'Consumer Cyclical', 'Healthcare', 'Consumer Cyclical', 'Consumer Cyclical', 'Healthcare', 'Financial Services', 'Healthcare', 'Healthcare', 'Financial Services', 'Consumer Cyclical', 'Energy', 'Financial Services', 'Healthcare', 'Technology', 'Healthcare', 'Consumer Cyclical', 'Real Estate', 'Financial Services', 'Consumer Defensive', 'Healthcare', 'Industrials', 'Industrials', 'Financial Services', 'Financial Services', 'Real Estate', 'Real Estate', 'Consumer Cyclical', 'Technology', 'Technology', 'Basic Materials', 'Utilities', 'Basic Materials', 'Financial Services', 'Consumer Defensive', 'Industrials', 'Communication Services', 'Healthcare', 'Consumer Defensive', 'Communication Services', 'Financial Services', 'Consumer Cyclical', 'Industrials', 'Utilities', 'Healthcare', 'Utilities', 'Financial Services', 'Energy', 'Consumer Defensive', 'Consumer Defensive', 'Consumer Cyclical', 'Real Estate', 'Healthcare', 'Technology', 'Technology', 'Industrials', 'Industrials', 'Healthcare', 'Energy', 'Technology', 'Basic Materials', 'Healthcare', 'Energy', 'Consumer Cyclical', 'Utilities', 'Industrials', 'Basic Materials', 'Industrials', 'Financial Services', 'Healthcare', 'Consumer Cyclical', 'Healthcare', 'Communication Services', 'Communication Services', 'Real Estate', 'Consumer Defensive', 'Industrials', 'Basic Materials', 'Consumer Cyclical', 'Consumer Cyclical', 'Utilities', 'Utilities', 'Healthcare', 'Energy', 'Technology', 'Healthcare', 'Communication Services', 'Consumer Cyclical', 'Basic Materials', 'Utilities', 'Industrials', 'Utilities', 'Consumer Defensive', 'Healthcare', 'Basic Materials', 'Industrials', 'Technology', 'Energy', 'Technology', 'Real Estate', 'Real Estate', 'Utilities', 'Real Estate', 'Industrials', 'Utilities', 'Consumer Cyclical', 'Utilities', 'Healthcare', 'Utilities', 'Industrials', 'Consumer Cyclical', 'Real Estate', 'Consumer Cyclical', 'Energy', 'Industrials', 'Basic Materials', 'Financial Services', 'Industrials', 'Utilities', 'Technology', 'Technology', 'Technology', 'Financial Services', 'Technology', 'Basic Materials', 'Communication Services', 'Financial Services', 'Real Estate', 'Technology', 'Technology', 'Industrials', 'Technology', 'Healthcare', 'Consumer Defensive', 'Financial Services', 'Technology', 'Consumer Cyclical', 'Industrials', 'Industrials', 'Communication Services', 'Communication Services', 'Industrials', 'Technology', 'Financial Services', 'Energy', 'Consumer Cyclical', 'Financial Services', 'Healthcare', 'Consumer Cyclical', 'Energy', 'Financial Services', 'Industrials', 'Consumer Cyclical', 'Industrials', 'Technology', 'Technology', 'Consumer Defensive', 'Healthcare', 'Real Estate', 'Consumer Defensive', 'Healthcare', 'Industrials', 'Technology', 'Financial Services', 'Healthcare', 'Industrials', 'Basic Materials', 'Healthcare', 'Healthcare', 'Technology', 'Technology', 'Consumer Cyclical', 'Communication Services', 'Industrials', 'Real Estate', 'Healthcare', 'Industrials', 'Financial Services', 'Industrials', 'Industrials', 'Healthcare', 'Technology', 'Financial Services', 'Consumer Defensive', 'Consumer Defensive', 'Financial Services', 'Technology', 'Consumer Defensive', 'Real Estate', 'Technology', 'Consumer Defensive', 'Energy', 'Consumer Cyclical', 'Consumer Defensive', 'Financial Services', 'Technology', 'Consumer Cyclical', 'Healthcare', 'Industrials', 'Basic Materials', 'Consumer Cyclical', 'Healthcare', 'Industrials', 'Financial Services', 'Utilities', 'Consumer Cyclical', 'Technology', 'Communication Services', 'Industrials', 'Consumer Cyclical', 'Basic Materials', 'Communication Services', 'Financial Services', 'Real Estate', 'Consumer Cyclical', 'Industrials', 'Consumer Cyclical', 'Technology', 'Healthcare', 'Financial Services', 'Consumer Defensive', 'Healthcare', 'Financial Services', 'Communication Services', 'Consumer Cyclical', 'Consumer Cyclical', 'Consumer Defensive', 'Financial Services', 'Basic Materials', 'Financial Services', 'Industrials', 'Consumer Defensive', 'Consumer Defensive', 'Healthcare', 'Basic Materials', 'Energy', 'Healthcare', 'Healthcare', 'Energy', 'Financial Services', 'Financial Services', 'Technology', 'Technology', 'Financial Services', 'Communication Services', 'Technology', 'Consumer Cyclical', 'Financial Services', 'Industrials', 'Utilities', 'Basic Materials', 'Communication Services', 'Utilities', 'Consumer Cyclical', 'Industrials', 'Technology', 'Utilities', 'Industrials', 'Technology', 'Financial Services', 'Basic Materials', 'Technology', 'Consumer Cyclical', 'Consumer Defensive', 'Communication Services', 'Communication Services', 'Technology', 'Industrials', 'Healthcare', 'Communication Services', 'Technology', 'Technology', 'Industrials', 'Energy', 'Communication Services', 'Technology', 'Industrials', 'Industrials', 'Real Estate', 'Utilities', 'Consumer Cyclical', 'Consumer Defensive', 'Healthcare', 'Financial Services', 'Consumer Defensive', 'Financial Services', 'Industrials', 'Consumer Cyclical', 'Consumer Cyclical', 'Healthcare', 'Real Estate', 'Consumer Defensive', 'Financial Services', 'Industrials', 'Industrials', 'Basic Materials', 'Utilities', 'Financial Services', 'Real Estate', 'Energy', 'Technology', 'Consumer Cyclical', 'Industrials', 'Energy', 'Financial Services', 'Technology', 'Technology', 'Consumer Cyclical', 'Financial Services', 'Real Estate', 'Healthcare', 'Financial Services', 'Financial Services', 'Consumer Cyclical', 'Healthcare', 'Industrials', 'Consumer Cyclical', 'Technology', 'Consumer Cyclical', 'Industrials', 'Industrials', 'Real Estate', 'Financial Services', 'Consumer Cyclical', 'Technology', 'Consumer Cyclical', 'Basic Materials', 'Financial Services', 'Consumer Defensive', 'Energy', 'Industrials', 'Technology', 'Utilities', 'Real Estate', 'Financial Services', 'Utilities', 'Financial Services', 'Technology', 'Industrials', 'Financial Services', 'Healthcare', 'Consumer Defensive', 'Communication Services', 'Consumer Defensive', 'Industrials', 'Technology', 'Technology', 'Financial Services', 'Healthcare', 'Consumer Defensive', 'Healthcare', 'Communication Services', 'Consumer Cyclical', 'Technology', 'Financial Services', 'Consumer Cyclical', 'Consumer Cyclical', 'Consumer Defensive', 'Industrials', 'Communication Services', 'Technology', 'Industrials', 'Technology', 'Industrials', 'Real Estate', 'Healthcare', 'Consumer Cyclical', 'Healthcare', 'Industrials', 'Industrials', 'Financial Services', 'Consumer Cyclical', 'Real Estate', 'Energy', 'Basic Materials', 'Real Estate', 'Industrials', 'Technology', 'Healthcare', 'Real Estate', 'Healthcare', 'Communication Services', 'Industrials', 'Healthcare', 'Communication Services', 'Technology', 'Utilities', 'Real Estate', 'Financial Services', 'Consumer Cyclical', 'Industrials', 'Energy', 'Consumer Defensive', 'Consumer Cyclical', 'Healthcare', 'Financial Services', 'Real Estate', 'Consumer Cyclical', 'Utilities', 'Energy', 'Healthcare', 'Industrials', 'Consumer Cyclical', 'Healthcare', 'Technology', 'Financial Services', 'Healthcare']\n"
     ]
    }
   ],
   "source": [
    "for i in tickers:\n",
    "    ticks = Ticker(i).asset_profile\n",
    "    try:\n",
    "        l_sectors.append(ticks[i]['sector'])\n",
    "        l_ticks.append(i)\n",
    "#         print(i+':',ticks[i]['sector'])\n",
    "    except:\n",
    "        continue\n",
    "print(l_ticks)\n",
    "print(l_sectors)"
   ]
  },
  {
   "cell_type": "code",
   "execution_count": 131,
   "id": "2bfad354",
   "metadata": {},
   "outputs": [
    {
     "name": "stdout",
     "output_type": "stream",
     "text": [
      "449\n",
      "449\n"
     ]
    }
   ],
   "source": [
    "print(len(l_sectors))\n",
    "print(len(l_ticks))"
   ]
  },
  {
   "cell_type": "code",
   "execution_count": 132,
   "id": "c8854a8d",
   "metadata": {},
   "outputs": [],
   "source": [
    "df_sector = pd.DataFrame({'name':l_ticks, 'sector':l_sectors})"
   ]
  },
  {
   "cell_type": "code",
   "execution_count": 133,
   "id": "06b00289",
   "metadata": {},
   "outputs": [],
   "source": [
    "df_sector.to_excel('sector.xlsx', index = True)"
   ]
  }
 ],
 "metadata": {
  "kernelspec": {
   "display_name": "Python 3 (ipykernel)",
   "language": "python",
   "name": "python3"
  },
  "language_info": {
   "codemirror_mode": {
    "name": "ipython",
    "version": 3
   },
   "file_extension": ".py",
   "mimetype": "text/x-python",
   "name": "python",
   "nbconvert_exporter": "python",
   "pygments_lexer": "ipython3",
   "version": "3.10.6"
  }
 },
 "nbformat": 4,
 "nbformat_minor": 5
}
